{
 "cells": [
  {
   "cell_type": "code",
   "execution_count": 2,
   "id": "4a9a396d",
   "metadata": {},
   "outputs": [
    {
     "name": "stdout",
     "output_type": "stream",
     "text": [
      "['0_script_standard.py', '1_filtred_Chembl_Data.py', '2_export_activate_inactaives.py', '3_separation_Class_active_inactive.py', '4_lig_prep_data.py', '5_clean_actives_pretraitement.py', '6_clean_inactives_pretraitement.py', '7_Actives_Conformer3D_Generation.py', '8_Inactives_Conformer3D_Generation.py', '9_Alignement_3D.py', '10_3D_Pharamcophore.py', '11_Inactives_3D_Descriptors_Generation.py', '12_Actives_3D_Descriptors.py', '13_1_actives_splits.py', '13_split_train_inactives.py', '14_split_train_active.py', '15_3D_QSAR.py', '16_Validation_3D_QSAR.py', '17_Post_Validation_Analysis.py', '18_view_best_pharmacophore.py', '20_modeljob.py']\n"
     ]
    }
   ],
   "source": [
    "import os, re\n",
    "\n",
    "SCRIPTS_FOLDER = \"C:/Users/imedo/Desktop/Article 1/application_streamlit/scripts\"  # ton chemin\n",
    "scripts = [f for f in os.listdir(SCRIPTS_FOLDER) if f.endswith(\".py\") and f != \"__init__.py\"]\n",
    "scripts = [\"0_script_standard.py\"] + sorted(\n",
    "    [s for s in scripts if s != \"0_script_standard.py\"],\n",
    "    key=lambda x: int(re.match(r\"(\\d+)\", x).group(1)) if re.match(r\"(\\d+)\", x) else 999\n",
    ")\n",
    "print(scripts)\n"
   ]
  }
 ],
 "metadata": {
  "kernelspec": {
   "display_name": "rdkit_py39",
   "language": "python",
   "name": "python3"
  },
  "language_info": {
   "codemirror_mode": {
    "name": "ipython",
    "version": 3
   },
   "file_extension": ".py",
   "mimetype": "text/x-python",
   "name": "python",
   "nbconvert_exporter": "python",
   "pygments_lexer": "ipython3",
   "version": "3.9.23"
  }
 },
 "nbformat": 4,
 "nbformat_minor": 5
}
